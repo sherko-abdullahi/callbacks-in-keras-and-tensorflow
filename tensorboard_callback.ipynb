{
  "nbformat": 4,
  "nbformat_minor": 0,
  "metadata": {
    "colab": {
      "name": "tensorboard callback.ipynb",
      "provenance": [],
      "authorship_tag": "ABX9TyPw89X5EUAhFKzx0tDKK4of",
      "include_colab_link": true
    },
    "kernelspec": {
      "name": "python3",
      "display_name": "Python 3"
    },
    "language_info": {
      "name": "python"
    }
  },
  "cells": [
    {
      "cell_type": "markdown",
      "metadata": {
        "id": "view-in-github",
        "colab_type": "text"
      },
      "source": [
        "<a href=\"https://colab.research.google.com/github/sherko-abdullahi/callbacks-in-keras-and-tensorflow/blob/main/tensorboard_callback.ipynb\" target=\"_parent\"><img src=\"https://colab.research.google.com/assets/colab-badge.svg\" alt=\"Open In Colab\"/></a>"
      ]
    },
    {
      "cell_type": "code",
      "metadata": {
        "id": "1Ncy8TTNnpwQ"
      },
      "source": [
        "#requirements\n",
        "import keras.datasets.mnist\n",
        "import tensorflow as tf\n",
        "from keras.models import Sequential\n",
        "from keras.layers import Dense,  Activation\n",
        "import numpy as np\n",
        "from keras import models\n",
        "from keras.callbacks import CSVLogger\n",
        "from keras.callbacks import EarlyStopping\n",
        "from keras.callbacks import LambdaCallback\n",
        "from keras.callbacks import LearningRateScheduler\n",
        "from keras.callbacks import ModelCheckpoint\n",
        "from keras.callbacks import TensorBoard\n",
        "import pandas as pd\n",
        "import matplotlib.pyplot as plt\n",
        "import os\n",
        "import datetime"
      ],
      "execution_count": 1,
      "outputs": []
    },
    {
      "cell_type": "code",
      "metadata": {
        "id": "sGlbrt_Vns3L"
      },
      "source": [
        "# for same results \n",
        "np.random.seed(23)"
      ],
      "execution_count": 2,
      "outputs": []
    },
    {
      "cell_type": "code",
      "metadata": {
        "colab": {
          "base_uri": "https://localhost:8080/"
        },
        "id": "DRTWYgkQns75",
        "outputId": "df22e5d7-b7d4-46f6-b08c-3b7a31e4c7a5"
      },
      "source": [
        "# dataset (saved in .keras/datasets)\n",
        "path = 'mnist.npz'\n",
        "(x_train, y_train), (x_test, y_test) = keras.datasets.mnist.load_data(path)\n",
        "x_train, x_test = x_train / 255.0, x_test / 255.0"
      ],
      "execution_count": 3,
      "outputs": [
        {
          "output_type": "stream",
          "text": [
            "Downloading data from https://storage.googleapis.com/tensorflow/tf-keras-datasets/mnist.npz\n",
            "11493376/11490434 [==============================] - 0s 0us/step\n",
            "11501568/11490434 [==============================] - 0s 0us/step\n"
          ],
          "name": "stdout"
        }
      ]
    },
    {
      "cell_type": "code",
      "metadata": {
        "colab": {
          "base_uri": "https://localhost:8080/"
        },
        "id": "lPxcVpovnxYW",
        "outputId": "252d5694-d187-42e1-883f-9d3ef25db5ef"
      },
      "source": [
        "# log folder direction\n",
        "logDir = \".\\\\logs\\\\mlp\\\\\" + datetime.datetime.now().strftime(\"%Y%m%d - %H%M%S\")\n",
        "print(\"logDir:\", logDir)\n",
        "tensorboard_callback = TensorBoard(logDir)"
      ],
      "execution_count": 4,
      "outputs": [
        {
          "output_type": "stream",
          "text": [
            "logDir: .\\logs\\mlp\\20210821 - 073610\n"
          ],
          "name": "stdout"
        }
      ]
    },
    {
      "cell_type": "code",
      "metadata": {
        "colab": {
          "base_uri": "https://localhost:8080/"
        },
        "id": "3-e4mwDsn0Fz",
        "outputId": "6ab74dbd-95e4-4498-82d1-c120d4ca6de2"
      },
      "source": [
        "# model architecture\n",
        "model = tf.keras.models.Sequential([\n",
        "    tf.keras.layers.Flatten(input_shape=(28, 28)),\n",
        "    tf.keras.layers.Dense(512, activation=tf.nn.relu),\n",
        "    tf.keras.layers.Dropout(0.5),\n",
        "    tf.keras.layers.Dense(10, activation=tf.nn.softmax)\n",
        "    ])                              \n",
        "  \n",
        "model.compile(optimizer='adam',\n",
        "             \n",
        "              loss='sparse_categorical_crossentropy',\n",
        "                metrics=['accuracy'],\n",
        "             )\n",
        "history= model.fit(x_train, y_train,\n",
        "          epochs= 30,\n",
        "          validation_split= 0.2, \n",
        "          callbacks= [tensorboard_callback]\n",
        "          )"
      ],
      "execution_count": 5,
      "outputs": [
        {
          "output_type": "stream",
          "text": [
            "Epoch 1/30\n",
            "1500/1500 [==============================] - 7s 4ms/step - loss: 0.2935 - accuracy: 0.9129 - val_loss: 0.1427 - val_accuracy: 0.9573\n",
            "Epoch 2/30\n",
            "1500/1500 [==============================] - 7s 5ms/step - loss: 0.1483 - accuracy: 0.9550 - val_loss: 0.0952 - val_accuracy: 0.9732\n",
            "Epoch 3/30\n",
            "1500/1500 [==============================] - 7s 4ms/step - loss: 0.1171 - accuracy: 0.9637 - val_loss: 0.0897 - val_accuracy: 0.9733\n",
            "Epoch 4/30\n",
            "1500/1500 [==============================] - 7s 4ms/step - loss: 0.0962 - accuracy: 0.9698 - val_loss: 0.0867 - val_accuracy: 0.9746\n",
            "Epoch 5/30\n",
            "1500/1500 [==============================] - 7s 5ms/step - loss: 0.0861 - accuracy: 0.9732 - val_loss: 0.0771 - val_accuracy: 0.9762\n",
            "Epoch 6/30\n",
            "1500/1500 [==============================] - 7s 5ms/step - loss: 0.0749 - accuracy: 0.9759 - val_loss: 0.0744 - val_accuracy: 0.9793\n",
            "Epoch 7/30\n",
            "1500/1500 [==============================] - 6s 4ms/step - loss: 0.0688 - accuracy: 0.9776 - val_loss: 0.0733 - val_accuracy: 0.9787\n",
            "Epoch 8/30\n",
            "1500/1500 [==============================] - 7s 4ms/step - loss: 0.0644 - accuracy: 0.9793 - val_loss: 0.0783 - val_accuracy: 0.9783\n",
            "Epoch 9/30\n",
            "1500/1500 [==============================] - 6s 4ms/step - loss: 0.0586 - accuracy: 0.9811 - val_loss: 0.0784 - val_accuracy: 0.9775\n",
            "Epoch 10/30\n",
            "1500/1500 [==============================] - 6s 4ms/step - loss: 0.0541 - accuracy: 0.9826 - val_loss: 0.0795 - val_accuracy: 0.9790\n",
            "Epoch 11/30\n",
            "1500/1500 [==============================] - 7s 5ms/step - loss: 0.0494 - accuracy: 0.9834 - val_loss: 0.0746 - val_accuracy: 0.9811\n",
            "Epoch 12/30\n",
            "1500/1500 [==============================] - 7s 5ms/step - loss: 0.0473 - accuracy: 0.9843 - val_loss: 0.0840 - val_accuracy: 0.9795\n",
            "Epoch 13/30\n",
            "1500/1500 [==============================] - 7s 4ms/step - loss: 0.0471 - accuracy: 0.9846 - val_loss: 0.0822 - val_accuracy: 0.9804\n",
            "Epoch 14/30\n",
            "1500/1500 [==============================] - 6s 4ms/step - loss: 0.0426 - accuracy: 0.9859 - val_loss: 0.0787 - val_accuracy: 0.9817\n",
            "Epoch 15/30\n",
            "1500/1500 [==============================] - 6s 4ms/step - loss: 0.0399 - accuracy: 0.9871 - val_loss: 0.0854 - val_accuracy: 0.9815\n",
            "Epoch 16/30\n",
            "1500/1500 [==============================] - 7s 4ms/step - loss: 0.0409 - accuracy: 0.9865 - val_loss: 0.0847 - val_accuracy: 0.9810\n",
            "Epoch 17/30\n",
            "1500/1500 [==============================] - 7s 4ms/step - loss: 0.0398 - accuracy: 0.9874 - val_loss: 0.0915 - val_accuracy: 0.9797\n",
            "Epoch 18/30\n",
            "1500/1500 [==============================] - 7s 5ms/step - loss: 0.0397 - accuracy: 0.9870 - val_loss: 0.0787 - val_accuracy: 0.9828\n",
            "Epoch 19/30\n",
            "1500/1500 [==============================] - 7s 5ms/step - loss: 0.0365 - accuracy: 0.9886 - val_loss: 0.0906 - val_accuracy: 0.9803\n",
            "Epoch 20/30\n",
            "1500/1500 [==============================] - 7s 4ms/step - loss: 0.0338 - accuracy: 0.9892 - val_loss: 0.0897 - val_accuracy: 0.9812\n",
            "Epoch 21/30\n",
            "1500/1500 [==============================] - 6s 4ms/step - loss: 0.0350 - accuracy: 0.9888 - val_loss: 0.0938 - val_accuracy: 0.9809\n",
            "Epoch 22/30\n",
            "1500/1500 [==============================] - 6s 4ms/step - loss: 0.0330 - accuracy: 0.9893 - val_loss: 0.0919 - val_accuracy: 0.9817\n",
            "Epoch 23/30\n",
            "1500/1500 [==============================] - 6s 4ms/step - loss: 0.0353 - accuracy: 0.9890 - val_loss: 0.0971 - val_accuracy: 0.9820\n",
            "Epoch 24/30\n",
            "1500/1500 [==============================] - 7s 5ms/step - loss: 0.0325 - accuracy: 0.9892 - val_loss: 0.0885 - val_accuracy: 0.9825\n",
            "Epoch 25/30\n",
            "1500/1500 [==============================] - 6s 4ms/step - loss: 0.0333 - accuracy: 0.9896 - val_loss: 0.0924 - val_accuracy: 0.9828\n",
            "Epoch 26/30\n",
            "1500/1500 [==============================] - 6s 4ms/step - loss: 0.0300 - accuracy: 0.9906 - val_loss: 0.1024 - val_accuracy: 0.9818\n",
            "Epoch 27/30\n",
            "1500/1500 [==============================] - 6s 4ms/step - loss: 0.0328 - accuracy: 0.9897 - val_loss: 0.1002 - val_accuracy: 0.9810\n",
            "Epoch 28/30\n",
            "1500/1500 [==============================] - 6s 4ms/step - loss: 0.0312 - accuracy: 0.9905 - val_loss: 0.1020 - val_accuracy: 0.9820\n",
            "Epoch 29/30\n",
            "1500/1500 [==============================] - 7s 5ms/step - loss: 0.0295 - accuracy: 0.9901 - val_loss: 0.1050 - val_accuracy: 0.9823\n",
            "Epoch 30/30\n",
            "1500/1500 [==============================] - 6s 4ms/step - loss: 0.0249 - accuracy: 0.9919 - val_loss: 0.1039 - val_accuracy: 0.9817\n"
          ],
          "name": "stdout"
        }
      ]
    },
    {
      "cell_type": "code",
      "metadata": {
        "id": "KLsRCsUcn0I9"
      },
      "source": [
        "def plot_history(history):\n",
        "    acc = history.history['accuracy']\n",
        "    val_acc = history.history['val_accuracy']\n",
        "    loss = history.history['loss']\n",
        "    val_loss = history.history['val_loss']\n",
        "\n",
        "    epochs = range(len(acc))\n",
        "\n",
        "    plt.plot(epochs, acc, 'bo', label='Training acc')\n",
        "    plt.plot(epochs, val_acc, 'b', label='Validation acc')\n",
        "    plt.title('Training and validation accuracy')\n",
        "    plt.legend()\n",
        "\n",
        "    plt.figure()\n",
        "\n",
        "    plt.plot(epochs, loss, 'bo', label='Training loss')\n",
        "    plt.plot(epochs, val_loss, 'b', label='Validation loss')\n",
        "    plt.title('Training and validation loss')\n",
        "    plt.legend()\n",
        "\n",
        "    plt.show()"
      ],
      "execution_count": 6,
      "outputs": []
    },
    {
      "cell_type": "code",
      "metadata": {
        "colab": {
          "base_uri": "https://localhost:8080/",
          "height": 545
        },
        "id": "QVYhiDBHnxbb",
        "outputId": "cc9b7904-b858-4f44-d05a-c39dfd40f909"
      },
      "source": [
        "plot_history(history)"
      ],
      "execution_count": 7,
      "outputs": [
        {
          "output_type": "display_data",
          "data": {
            "image/png": "[encoded data removed]",
            "text/plain": [
              "<Figure size 432x288 with 1 Axes>"
            ]
          },
          "metadata": {
            "needs_background": "light"
          }
        },
        {
          "output_type": "display_data",
          "data": {
            "image/png": "[encoded data removed]",
            "text/plain": [
              "<Figure size 432x288 with 1 Axes>"
            ]
          },
          "metadata": {
            "needs_background": "light"
          }
        }
      ]
    }
  ]
}